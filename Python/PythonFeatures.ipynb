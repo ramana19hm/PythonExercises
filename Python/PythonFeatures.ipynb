{
 "cells": [
  {
   "cell_type": "markdown",
   "metadata": {},
   "source": [
    "### Python generators"
   ]
  },
  {
   "cell_type": "code",
   "execution_count": 3,
   "metadata": {},
   "outputs": [
    {
     "name": "stdout",
     "output_type": "stream",
     "text": [
      "1\n",
      "4\n",
      "9\n",
      "16\n",
      "25\n"
     ]
    }
   ],
   "source": [
    "def square_nums(nums):\n",
    "    for num in nums:\n",
    "        yield (num * num)\n",
    "\n",
    "squared_nums = square_nums([1, 2, 3, 4, 5])\n",
    "for num in squared_nums:\n",
    "    print(num)\n",
    "\n",
    "# Printing just the next value:\n",
    "# print(next(squared_nums))\n",
    "# print(next(squared_nums))\n",
    "# The commented code won't work because sqared_nums has already been iterated through in the for loop.\n",
    "# Use generators when you only want to iterate once.\n",
    "# If you run the commented code by commenting the for loop, it'll work as intended, printing 1 and 4."
   ]
  },
  {
   "cell_type": "markdown",
   "metadata": {},
   "source": [
    "### Python functions exercise"
   ]
  },
  {
   "cell_type": "code",
   "execution_count": 20,
   "metadata": {},
   "outputs": [
    {
     "data": {
      "text/plain": [
       "5"
      ]
     },
     "execution_count": 20,
     "metadata": {},
     "output_type": "execute_result"
    }
   ],
   "source": [
    "def foo(num):\n",
    "    return num\n",
    "\n",
    "v = foo\n",
    "v(5)"
   ]
  },
  {
   "cell_type": "code",
   "execution_count": null,
   "metadata": {},
   "outputs": [],
   "source": []
  }
 ],
 "metadata": {
  "kernelspec": {
   "display_name": "Python 3",
   "language": "python",
   "name": "python3"
  },
  "language_info": {
   "codemirror_mode": {
    "name": "ipython",
    "version": 3
   },
   "file_extension": ".py",
   "mimetype": "text/x-python",
   "name": "python",
   "nbconvert_exporter": "python",
   "pygments_lexer": "ipython3",
   "version": "3.6.6"
  }
 },
 "nbformat": 4,
 "nbformat_minor": 4
}
